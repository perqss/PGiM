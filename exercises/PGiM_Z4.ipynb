{
 "cells": [
  {
   "cell_type": "markdown",
   "metadata": {},
   "source": [
    "# Przetwarzanie Grafiki i Muzyki - laboratorium nr 4"
   ]
  },
  {
   "cell_type": "code",
   "execution_count": 1,
   "metadata": {},
   "outputs": [],
   "source": [
    "import cv2\n",
    "import numpy as np\n",
    "import matplotlib.pyplot as plt\n",
    "%matplotlib inline"
   ]
  },
  {
   "cell_type": "markdown",
   "metadata": {},
   "source": [
    "# Zadanie 1 (1.5 punkta)\n",
    "Proszę zaimplementować (ręcznie) konwersję z formatu RGB na YCbCr (https://en.wikipedia.org/wiki/YCbCr) i przetestować na wybranym przez siebie obrazku. Wzór:\n",
    "\n",
    "$$\n",
    "\\begin{align}\n",
    "Y &= 0.299 \\cdot R + 0.587\\cdot G + 0.114\\cdot B \\\\\n",
    "C_B &= 0.5 -0.169\\cdot R - 0.331 \\cdot G + 0.5\\cdot B \\\\\n",
    "C_R &= 0.5 + 0.5\\cdot R - 0.419\\cdot G - 0.081\\cdot B,\n",
    "\\end{align}\n",
    "$$\n",
    "\n",
    "gdzie $R, G, B \\in [0,1]$."
   ]
  },
  {
   "cell_type": "code",
   "execution_count": 73,
   "metadata": {},
   "outputs": [],
   "source": [
    "import os\n",
    "\n",
    "import cv2\n",
    "import numpy as np\n",
    "\n",
    "\n",
    "def rgb2ycbcr(im):\n",
    "    xform = np.array([[.299, .587, .114], [-.169, -.331, .5], [.5, -.419, -.081]])\n",
    "    ycbcr = im.dot(xform.T)\n",
    "    ycbcr[:, :, [1, 2]] += 0.5\n",
    "    return np.float32(ycbcr)\n",
    "\n",
    "\n",
    "image1 = cv2.imread('./img/LENA_512.jpg')\n",
    "img_scaled = image1.astype(np.float32) / 255.0\n",
    "ycbcr_result = rgb2ycbcr(img_scaled)\n",
    "image1 = cv2.imread('./img/LENA_512.jpg')\n",
    "# użycie gotowej funkcji dla porównania\n",
    "imgYCC = cv2.cvtColor(image1, cv2.COLOR_BGR2YCR_CB)\n",
    "cv2.imshow(\"ycbcr\", ycbcr_result)\n",
    "cv2.imshow(\"ycbcr_expected\", imgYCC)\n",
    "cv2.waitKey(0)\n",
    "cv2.destroyAllWindows()"
   ]
  },
  {
   "cell_type": "markdown",
   "metadata": {},
   "source": [
    "## Zadanie 2 (1.5 punkta)\n",
    "\n",
    "Proszę zaimplementować ręcznie konwersję z formatu YCbCr na RGB (https://en.wikipedia.org/wiki/YCbCr). Przetestuj kod na obrazie wynikowym z poprzedniego zadania. Wzór:\n",
    "\n",
    "$$\n",
    "\\begin{align}\n",
    "    R &= Y + 1.402*(C_R - 0.5) \\\\\n",
    "    G &= Y - 0.344*(C_B - 0.5)-0.714*(C_R - 0.5) \\\\\n",
    "    B &= Y + 1.772*(C_B - 0.5)\n",
    "\\end{align}\n",
    "$$\n",
    "\n",
    "gdzie $Y, C_R, C_B \\in [0, 1]$."
   ]
  },
  {
   "cell_type": "code",
   "execution_count": 71,
   "metadata": {},
   "outputs": [],
   "source": [
    "import os\n",
    "import cv2\n",
    "import numpy as np\n",
    "\n",
    "def ycbcr2rgb(im):\n",
    "    xform = np.array([[1, 0, 1.402], [1, -0.344, -0.714], [1, 1.772, 0]])\n",
    "    im[:, :, [1, 2]] -= 0.5\n",
    "    return np.uint8(im.dot(xform.T) * 255.0)\n",
    "\n",
    "rgb_result = ycbcr2rgb(ycbcr_result)\n",
    "cv2.imshow(\"rgb\", rgb_result)\n",
    "cv2.waitKey(0)\n",
    "cv2.destroyAllWindows()"
   ]
  },
  {
   "cell_type": "markdown",
   "metadata": {},
   "source": [
    "## Zadanie 3 (1 punkt)\n",
    "Proszę zaimplementować konwersję z formatu RGB na HLS i wyświetlić składowe H, L oraz S. Tutaj można użyć gotowej metody z pakietu OpenCV (cv2.COLOR_BGR2HLS)."
   ]
  },
  {
   "cell_type": "code",
   "execution_count": 11,
   "metadata": {
    "collapsed": true
   },
   "outputs": [],
   "source": [
    "img = cv2.imread('./img/LENA_512.jpg')\n",
    "img = cv2.cvtColor(img, cv2.COLOR_RGB2HLS)\n",
    "h, l, s = cv2.split(img)\n",
    "cv2.imshow(\"h\", h)\n",
    "cv2.imshow(\"l\", l)\n",
    "cv2.imshow(\"s\", s)\n",
    "cv2.waitKey(0)\n",
    "cv2.destroyAllWindows()"
   ]
  },
  {
   "cell_type": "markdown",
   "metadata": {},
   "source": [
    "## Zadanie 4 (2 punkty)\n",
    "\n",
    "Proszę stworzyć obrazek zawierający tylko zielone papryczki (analogicznie do przykładu z wykładu). Użyj obrazku \"peppers.png\".\n",
    "\n",
    "HINT - zielone papryczki znajdują się tam, gdzie $R\\in [20, 120]$ i $G \\in [20, 160]$. R i G to natężenie składowych koloru w modelu RGB."
   ]
  },
  {
   "cell_type": "code",
   "execution_count": 52,
   "metadata": {
    "collapsed": false
   },
   "outputs": [],
   "source": [
    "import cv2\n",
    "import numpy as np\n",
    "\n",
    "image = cv2.imread(\"./img/peppers.png\", cv2.IMREAD_COLOR)\n",
    "height, width, channels = image.shape\n",
    "for i in range(0, height):\n",
    "    for j in range(0, width):\n",
    "        b, g, r = image[i][j]\n",
    "        pixel = image[i][j]\n",
    "        if not ((r >= 20 and r <= 120) and (g >= 20 and g <= 160)):\n",
    "           image[i][j] = 0\n",
    "\n",
    "cv2.imshow(\"Green Peppers\", image)\n",
    "cv2.waitKey(0)\n",
    "cv2.destroyAllWindows()\n"
   ]
  },
  {
   "cell_type": "markdown",
   "metadata": {},
   "source": [
    "## Zadanie 5 (2 punkty)\n",
    "Proszę dokonać detekcji skóry na zdjęciu \"face.jpg\", używając modelu HLS.\n",
    "\n",
    "HINT - skóra znajduje się tam, gdzie spełniona jest następująca reguła:\n",
    "$$\n",
    "\\left(S \\geq 50\\right) \\land \\left(0.5 < \\frac{L}{S} < 3 \\right) \\land \\left( \\left(H \\leq 14\\right) \\lor \\left(H \\geq 165\\right) \\right) \n",
    "$$\n",
    "\n",
    "![alt](https://raw.githubusercontent.com/przem85/PGiM/master/img/face.jpg)"
   ]
  },
  {
   "cell_type": "code",
   "execution_count": 69,
   "metadata": {
    "collapsed": true
   },
   "outputs": [],
   "source": [
    "image = cv2.imread(\"./img/face.jpg\")\n",
    "height, width = image.shape[:2]\n",
    "hls = cv2.cvtColor(image, cv2.COLOR_BGR2HLS)\n",
    "h, l, s = cv2.split(hls)\n",
    "for i in range(height):\n",
    "    for j in range(width):\n",
    "        quotient = 0 if s[i][j] == 0 else l[i][j] / s[i][j]\n",
    "        if not (s[i][j] >= 50 and quotient > 0.5 and quotient < 3.0 and (h[i][j] <= 14 or h[i][j] >= 165)):\n",
    "            image[i][j] = 0\n",
    "\n",
    "cv2.imshow(\"face\", image)\n",
    "cv2.waitKey(0)\n",
    "cv2.destroyAllWindows()"
   ]
  },
  {
   "cell_type": "markdown",
   "metadata": {},
   "source": [
    "##  Zadanie 6 (2 punkty)\n",
    "Proszę dokonać detekcję efektu czerwonych oczu na zdjęciu \"face1.jpg\".\n",
    "\n",
    "HINT - czerwone oczy znajdują się tam, gdzie jest spełniona następująca reguła:\n",
    "$$\n",
    "\\left( L \\geq 64 \\right) \\land \\left(S \\geq 100\\right) \\land \\left(0.5 < \\frac{L}{S} < 1.5 \\right) \\land \\left( \\left(H \\leq 7\\right) \\lor \\left(H \\geq 162\\right) \\right) \n",
    "$$\n",
    "\n",
    "![alt](https://raw.githubusercontent.com/przem85/PGiM/master/img/face1.jpg)"
   ]
  },
  {
   "cell_type": "code",
   "execution_count": 68,
   "metadata": {
    "collapsed": true
   },
   "outputs": [],
   "source": [
    "image = cv2.imread(\"./img/face1.jpg\")\n",
    "height, width = image.shape[:2]\n",
    "hls = cv2.cvtColor(image, cv2.COLOR_BGR2HLS)\n",
    "h, l, s = cv2.split(hls)\n",
    "for i in range(height):\n",
    "    for j in range(width):\n",
    "        quotient = 0 if s[i][j] == 0 else l[i][j] / s[i][j]\n",
    "        if not (l[i][j] >= 64 and s[i][j] >= 100 and quotient > 0.5 and quotient < 1.5 and (h[i][j] <= 7 or h[i][j] >= 162)):\n",
    "            image[i][j] = 0\n",
    "\n",
    "cv2.imshow(\"face\", image)\n",
    "cv2.waitKey(0)\n",
    "cv2.destroyAllWindows()"
   ]
  }
 ],
 "metadata": {
  "kernelspec": {
   "display_name": "Python 3",
   "language": "python",
   "name": "python3"
  },
  "language_info": {
   "codemirror_mode": {
    "name": "ipython",
    "version": 3
   },
   "file_extension": ".py",
   "mimetype": "text/x-python",
   "name": "python",
   "nbconvert_exporter": "python",
   "pygments_lexer": "ipython3",
   "version": "3.11.0"
  }
 },
 "nbformat": 4,
 "nbformat_minor": 2
}
