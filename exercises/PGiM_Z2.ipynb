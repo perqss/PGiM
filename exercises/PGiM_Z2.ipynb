{
 "cells": [
  {
   "cell_type": "markdown",
   "metadata": {},
   "source": [
    "# Przetwarzanie Grafiki i Muzyki - laboratorium nr 2"
   ]
  },
  {
   "cell_type": "code",
   "execution_count": 2,
   "metadata": {
    "collapsed": true
   },
   "outputs": [],
   "source": [
    "import cv2\n",
    "import numpy as np\n",
    "import matplotlib.pyplot as plt\n",
    "%matplotlib inline"
   ]
  },
  {
   "cell_type": "markdown",
   "metadata": {},
   "source": [
    "## Zadanie 1 (1 punkt)\n",
    "Proszę zmienić kolor 100 wybranym pikselom na obrazie LENA_512."
   ]
  },
  {
   "cell_type": "code",
   "execution_count": 15,
   "metadata": {
    "collapsed": false
   },
   "outputs": [],
   "source": [
    "img = cv2.imread('./img/LENA_512.jpg', cv2.IMREAD_UNCHANGED)\n",
    "for i in range(0, 100):\n",
    "    img[200, i] = 0 # zmiana koloru na czarny\n",
    "     \n",
    "cv2.imshow('img', img)   \n",
    "cv2.waitKey(5000)\n",
    "cv2.destroyAllWindows()"
   ]
  },
  {
   "cell_type": "markdown",
   "metadata": {},
   "source": [
    "## Zadanie 2 (1 punkt)\n",
    "Proszę wyświetlić obraz LENA_512 w odcieniach szarości."
   ]
  },
  {
   "cell_type": "code",
   "execution_count": 17,
   "metadata": {
    "collapsed": false
   },
   "outputs": [],
   "source": [
    "img = cv2.imread('./img/LENA_512.jpg', cv2.IMREAD_UNCHANGED)\n",
    "gray_img = cv2.cvtColor(img, cv2.COLOR_BGR2GRAY)\n",
    "cv2.imshow('img', gray_img)\n",
    "cv2.waitKey(0)\n",
    "cv2.destroyAllWindows()"
   ]
  },
  {
   "cell_type": "markdown",
   "metadata": {},
   "source": [
    "## Zadanie 3 (1 punkt)\n",
    "Proszę wyświetlić obraz LENA_512 w odcianiach szarości, uśredniając kolory bez użycia funkcji cv2.COLOR_GRAY2RGB.\n",
    "\n",
    "Aby wykonać to zadanie, można policzyć zwykłą średnią arytmetyczną po wartościach pikseli per kanał. Ale aby uzyskać obraz w odcieniach szarości, który będzie lepiej odpowiadał ludzkiej percepcji, można użyć średniej ważonej:\n",
    "\n",
    "$$\n",
    "Y = 0.299 \\cdot R + 0.587 \\cdot G + 0.114 \\cdot B,\n",
    "$$\n",
    "gdzie:\n",
    "* Y - luminancja,\n",
    "* R - \"czerwona\" składowa danego piksela,\n",
    "* G - \"zielona\" składowa danego piksela,\n",
    "* B - \"niebieska\" składowa danego piksela."
   ]
  },
  {
   "cell_type": "code",
   "execution_count": 3,
   "metadata": {
    "collapsed": false
   },
   "outputs": [],
   "source": [
    "img = cv2.imread('./img/LENA_512.jpg', cv2.IMREAD_UNCHANGED)\n",
    "height, width = img.shape[:2] \n",
    "gray_img = np.zeros((img.shape[0], img.shape[1]), dtype=np.uint8)\n",
    "for i in range(0, height):\n",
    "    for j in range(0, width):\n",
    "        pixel = img[i][j]\n",
    "        gray_pixel = 0.299 * pixel[2] + 0.587 * pixel[1] + 0.114 * pixel[0]\n",
    "        gray_img[i][j] = gray_pixel\n",
    "\n",
    "\n",
    "cv2.imshow('gray', gray_img)   \n",
    "cv2.waitKey(5000)\n",
    "cv2.destroyAllWindows()\n"
   ]
  },
  {
   "cell_type": "markdown",
   "metadata": {},
   "source": [
    "## Zadanie 4 (1 punkt)\n",
    "Proszę wyświetlić obrazek: LENA_512 oraz Statek_640_505\tjako negatyw (chodzi o model kolorów CMY).\n",
    "\n",
    "Załóżmy, że dla każdego kanału wartości pikseli to liczby całkowite z przedziału $0-255$. Wówczas negatyw możemy otrzymać poprzez następujące przekształcenia:\n",
    "\n",
    "* $B' = 255 - B,$\n",
    "* $G' = 255 - G,$\n",
    "* $R' = 255 - R,$\n",
    "\n",
    "gdzie\n",
    "* R, G, B - wartości składowych danego piksela w modelu RGB,\n",
    "* R', G', B' - wartości składowych danego piksela w modelu CMY."
   ]
  },
  {
   "cell_type": "code",
   "execution_count": 35,
   "metadata": {
    "collapsed": false
   },
   "outputs": [],
   "source": [
    "img_lena = cv2.imread('./img/LENA_512.jpg', cv2.IMREAD_UNCHANGED)\n",
    "img_boat= cv2.imread(\"./img/statek_640_505.jpg\", cv2.IMREAD_UNCHANGED)\n",
    "img_lena_neg = cv2.bitwise_not(img_lena)\n",
    "img_boat_neg = cv2.bitwise_not(img_boat)\n",
    "cv2.imshow('img_lena_neg', img_lena_neg)\n",
    "cv2.imshow('img_boat_neg', img_boat_neg)\n",
    "cv2.waitKey(5000)\n",
    "cv2.destroyAllWindows()"
   ]
  },
  {
   "cell_type": "markdown",
   "metadata": {},
   "source": [
    "## Zadanie 5 (1 punkt)\n",
    "\n",
    "Proszę wyświetlić obrazy: LENA_512 oraz Statek_640_505 jako sepię, stosując następujące przekształcenia:\n",
    "\n",
    " * $B' = \\min(255, (R \\cdot 0.272) + (G \\cdot 0.534) + (G \\cdot 0.131)),$\n",
    " * $G' = \\min(255, (R \\cdot 0.349) + (G \\cdot 0.686) + (B \\cdot 0.168)),$\n",
    " * $R' = \\min(255, (R \\cdot 0.393) + (G \\cdot 0.769) + (G \\cdot 0.189)),$\n",
    "\n",
    " gdzie $R,B,G$ to wartości składowych danego piksela w modelu RGB."
   ]
  },
  {
   "cell_type": "code",
   "execution_count": 30,
   "metadata": {
    "collapsed": false
   },
   "outputs": [],
   "source": [
    "import cv2\n",
    "import numpy as np\n",
    "\n",
    "def apply_sepia(img):\n",
    "    sepia_img = np.zeros_like(img, dtype=np.uint8)\n",
    "    for i in range(img.shape[0]):\n",
    "        for j in range(img.shape[1]):\n",
    "            b, g, r = img[i, j]\n",
    "            b_new = min(255, 0.272 * r + 0.534 * g + 0.131 * b)\n",
    "            g_new = min(255, 0.349 * r + 0.686 * g + 0.168 * b)\n",
    "            r_new = min(255, 0.393 * r + 0.769 * g + 0.189 * b)\n",
    "            sepia_img[i, j] = [b_new, g_new, r_new]\n",
    "    return sepia_img\n",
    "\n",
    "lena_image = cv2.imread('./img/LENA_512.jpg', cv2.IMREAD_UNCHANGED)\n",
    "ship_image = cv2.imread(\"./img/statek_640_505.jpg\", cv2.IMREAD_UNCHANGED)\n",
    "\n",
    "sepia_lena = apply_sepia(lena_image)\n",
    "sepia_ship = apply_sepia(ship_image)\n",
    "\n",
    "cv2.imshow('Sepia LENA', sepia_lena)\n",
    "cv2.imshow('Sepia Statek', sepia_ship)\n",
    "cv2.waitKey(0)\n",
    "cv2.destroyAllWindows()"
   ]
  },
  {
   "cell_type": "markdown",
   "metadata": {},
   "source": [
    "## Zadanie 6 (3 punkty)\n",
    "Proszę wyświetlić obraz LENA_512 obrócony o kąt $30$, $45$, $90$ stopni zgodnie ze wzorem:\n",
    "$$\n",
    "x' = x \\cos(\\theta) -y \\sin(\\theta)\n",
    "$$\n",
    "$$\n",
    "y'= x sin(\\theta) + y cos(\\theta)\n",
    "$$"
   ]
  },
  {
   "cell_type": "code",
   "execution_count": 34,
   "metadata": {
    "collapsed": false
   },
   "outputs": [],
   "source": [
    "# 1. wczytanie obrazka\n",
    "# 2. macierz obrotów (cv2.getRotationMatrix)\n",
    "# 3. aplikacja macierzy obrotów do obrazka (cv2.warpaffine)\n",
    "def rotate(angle: int):\n",
    "    img = cv2.imread('./img/LENA_512.jpg', cv2.IMREAD_UNCHANGED)\n",
    "    height, width = img.shape[:2] \n",
    "    center = (width/2, height/2)\n",
    "    rotate_matrix = cv2.getRotationMatrix2D(center=center, angle=angle, scale=1)\n",
    "    rotated_image = cv2.warpAffine(src=img, M=rotate_matrix, dsize=(width, height))\n",
    "    return rotated_image\n",
    "\n",
    "cv2.imshow('rotated', rotate(30))   \n",
    "cv2.waitKey(0)\n",
    "cv2.imshow('rotated', rotate(45))   \n",
    "cv2.waitKey(0)\n",
    "cv2.imshow('rotated', rotate(90))   \n",
    "cv2.waitKey(0)\n",
    "cv2.destroyAllWindows()\n"
   ]
  },
  {
   "cell_type": "markdown",
   "metadata": {},
   "source": [
    "## Zadanie 7 (2 punkty)\n",
    "Proszę wyświetlić przesunięty obraz LENA_512."
   ]
  },
  {
   "cell_type": "code",
   "execution_count": 32,
   "metadata": {
    "collapsed": false
   },
   "outputs": [],
   "source": [
    "img = cv2.imread('./img/LENA_512.jpg', cv2.IMREAD_UNCHANGED)\n",
    "height, width = img.shape[:2]\n",
    "shift = 200 \n",
    "M = np.float32([[1, 0, shift], [0, 1, 0]])\n",
    "shifted_img = cv2.warpAffine(src=img, M=M, dsize=(width, height))\n",
    "cv2.imshow('shifted', shifted_img)   \n",
    "cv2.waitKey(5000)\n",
    "cv2.destroyAllWindows()"
   ]
  }
 ],
 "metadata": {
  "kernelspec": {
   "display_name": "Python 3",
   "language": "python",
   "name": "python3"
  },
  "language_info": {
   "codemirror_mode": {
    "name": "ipython",
    "version": 3
   },
   "file_extension": ".py",
   "mimetype": "text/x-python",
   "name": "python",
   "nbconvert_exporter": "python",
   "pygments_lexer": "ipython3",
   "version": "3.11.0"
  }
 },
 "nbformat": 4,
 "nbformat_minor": 0
}
