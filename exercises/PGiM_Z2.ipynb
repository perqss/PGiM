{
 "cells": [
  {
   "cell_type": "markdown",
   "metadata": {},
   "source": [
    "# Przetwarzanie Grafiki i Muzyki - laboratorium nr 2"
   ]
  },
  {
   "cell_type": "code",
   "execution_count": 2,
   "metadata": {
    "collapsed": true
   },
   "outputs": [],
   "source": [
    "import cv2\n",
    "import numpy as np\n",
    "import matplotlib.pyplot as plt\n",
    "%matplotlib inline"
   ]
  },
  {
   "cell_type": "markdown",
   "metadata": {},
   "source": [
    "## Zadanie 1 (1 punkt)\n",
    "Proszę zmienić kolor 100 wybranym pikselom na obrazie LENA_512."
   ]
  },
  {
   "cell_type": "code",
   "execution_count": 14,
   "metadata": {
    "collapsed": false
   },
   "outputs": [],
   "source": [
    "import random\n",
    "\n",
    "img = cv2.imread('./img/LENA_512.jpg', cv2.IMREAD_UNCHANGED)\n",
    "for i in range(0, 100):\n",
    "    img[200, i] = 0 # zmiana koloru na czarny\n",
    "     \n",
    "cv2.imshow('img', img)   \n",
    "cv2.waitKey(5000)\n",
    "cv2.destroyAllWindows()"
   ]
  },
  {
   "cell_type": "markdown",
   "metadata": {},
   "source": [
    "## Zadanie 2 (1 punkt)\n",
    "Proszę wyświetlić obraz LENA_512 w odcieniach szarości."
   ]
  },
  {
   "cell_type": "code",
   "execution_count": null,
   "metadata": {
    "collapsed": false
   },
   "outputs": [],
   "source": []
  },
  {
   "cell_type": "markdown",
   "metadata": {},
   "source": [
    "## Zadanie 3 (1 punkt)\n",
    "Proszę wyświetlić obraz LENA_512 w odcianiach szarości, uśredniając kolory bez użycia funkcji cv2.COLOR_GRAY2RGB.\n",
    "\n",
    "Aby wykonać to zadanie, można policzyć zwykłą średnią arytmetyczną po wartościach pikseli per kanał. Ale aby uzyskać obraz w odcieniach szarości, który będzie lepiej odpowiadał ludzkiej percepcji, można użyć średniej ważonej:\n",
    "\n",
    "$$\n",
    "Y = 0.299 \\cdot R + 0.587 \\cdot G + 0.114 \\cdot B,\n",
    "$$\n",
    "gdzie:\n",
    "* Y - luminancja,\n",
    "* R - \"czerwona\" składowa danego piksela,\n",
    "* G - \"zielona\" składowa danego piksela,\n",
    "* B - \"niebieska\" składowa danego piksela."
   ]
  },
  {
   "cell_type": "code",
   "execution_count": 3,
   "metadata": {
    "collapsed": false
   },
   "outputs": [],
   "source": [
    "img = cv2.imread('./img/LENA_512.jpg', cv2.IMREAD_UNCHANGED)\n",
    "height, width = img.shape[:2] \n",
    "gray_img = np.zeros((img.shape[0], img.shape[1]), dtype=np.uint8)\n",
    "for i in range(0, height):\n",
    "    for j in range(0, width):\n",
    "        pixel = img[i][j]\n",
    "        gray_pixel = 0.299 * pixel[2] + 0.587 * pixel[1] + 0.114 * pixel[0]\n",
    "        gray_img[i][j] = gray_pixel\n",
    "\n",
    "\n",
    "cv2.imshow('gray', gray_img)   \n",
    "cv2.waitKey(5000)\n",
    "cv2.destroyAllWindows()\n"
   ]
  },
  {
   "cell_type": "markdown",
   "metadata": {},
   "source": [
    "## Zadanie 4 (1 punkt)\n",
    "Proszę wyświetlić obrazek: LENA_512 oraz Statek_640_505\tjako negatyw (chodzi o model kolorów CMY).\n",
    "\n",
    "Załóżmy, że dla każdego kanału wartości pikseli to liczby całkowite z przedziału $0-255$. Wówczas negatyw możemy otrzymać poprzez następujące przekształcenia:\n",
    "\n",
    "* $B' = 255 - B,$\n",
    "* $G' = 255 - G,$\n",
    "* $R' = 255 - R,$\n",
    "\n",
    "gdzie\n",
    "* R, G, B - wartości składowych danego piksela w modelu RGB,\n",
    "* R', G', B' - wartości składowych danego piksela w modelu CMY."
   ]
  },
  {
   "cell_type": "code",
   "execution_count": 4,
   "metadata": {
    "collapsed": false
   },
   "outputs": [
    {
     "ename": "AttributeError",
     "evalue": "module 'numpy' has no attribute 'darray'",
     "output_type": "error",
     "traceback": [
      "\u001b[1;31m---------------------------------------------------------------------------\u001b[0m",
      "\u001b[1;31mAttributeError\u001b[0m                            Traceback (most recent call last)",
      "Cell \u001b[1;32mIn[4], line 7\u001b[0m\n\u001b[0;32m      5\u001b[0m     \u001b[38;5;28;01mfor\u001b[39;00m j \u001b[38;5;129;01min\u001b[39;00m \u001b[38;5;28mrange\u001b[39m(\u001b[38;5;241m0\u001b[39m, width):\n\u001b[0;32m      6\u001b[0m         pixel \u001b[38;5;241m=\u001b[39m img[i][j]\n\u001b[1;32m----> 7\u001b[0m         new_pixel \u001b[38;5;241m=\u001b[39m \u001b[43mnp\u001b[49m\u001b[38;5;241;43m.\u001b[39;49m\u001b[43mdarray\u001b[49m\n\u001b[0;32m      8\u001b[0m         gray_img[i][j] \u001b[38;5;241m=\u001b[39m gray_pixel\n\u001b[0;32m     11\u001b[0m cv2\u001b[38;5;241m.\u001b[39mimshow(\u001b[38;5;124m'\u001b[39m\u001b[38;5;124mgray\u001b[39m\u001b[38;5;124m'\u001b[39m, gray_img)   \n",
      "File \u001b[1;32m~\\AppData\\Roaming\\Python\\Python311\\site-packages\\numpy\\__init__.py:311\u001b[0m, in \u001b[0;36m__getattr__\u001b[1;34m(attr)\u001b[0m\n\u001b[0;32m    308\u001b[0m     \u001b[38;5;28;01mfrom\u001b[39;00m \u001b[38;5;21;01m.\u001b[39;00m\u001b[38;5;21;01mtesting\u001b[39;00m \u001b[38;5;28;01mimport\u001b[39;00m Tester\n\u001b[0;32m    309\u001b[0m     \u001b[38;5;28;01mreturn\u001b[39;00m Tester\n\u001b[1;32m--> 311\u001b[0m \u001b[38;5;28;01mraise\u001b[39;00m \u001b[38;5;167;01mAttributeError\u001b[39;00m(\u001b[38;5;124m\"\u001b[39m\u001b[38;5;124mmodule \u001b[39m\u001b[38;5;132;01m{!r}\u001b[39;00m\u001b[38;5;124m has no attribute \u001b[39m\u001b[38;5;124m\"\u001b[39m\n\u001b[0;32m    312\u001b[0m                      \u001b[38;5;124m\"\u001b[39m\u001b[38;5;132;01m{!r}\u001b[39;00m\u001b[38;5;124m\"\u001b[39m\u001b[38;5;241m.\u001b[39mformat(\u001b[38;5;18m__name__\u001b[39m, attr))\n",
      "\u001b[1;31mAttributeError\u001b[0m: module 'numpy' has no attribute 'darray'"
     ]
    }
   ],
   "source": [
    "img = cv2.imread('./img/LENA_512.jpg', cv2.IMREAD_UNCHANGED)\n",
    "height, width = img.shape[:2] \n",
    "new_img = np.zeros((img.shape[0], img.shape[1]), dtype=np.uint8)\n",
    "for i in range(0, height):\n",
    "    for j in range(0, width):\n",
    "        pixel = img[i][j]\n",
    "        new_pixel = np.darray\n",
    "        gray_img[i][j] = gray_pixel\n",
    "\n",
    "\n",
    "cv2.imshow('gray', gray_img)   \n",
    "cv2.waitKey(5000)\n",
    "cv2.destroyAllWindows()"
   ]
  },
  {
   "cell_type": "markdown",
   "metadata": {},
   "source": [
    "## Zadanie 5 (1 punkt)\n",
    "\n",
    "Proszę wyświetlić obrazy: LENA_512 oraz Statek_640_505 jako sepię, stosując następujące przekształcenia:\n",
    "\n",
    " * $B' = \\min(255, (R \\cdot 0.272) + (G \\cdot 0.534) + (G \\cdot 0.131)),$\n",
    " * $G' = \\min(255, (R \\cdot 0.349) + (G \\cdot 0.686) + (B \\cdot 0.168)),$\n",
    " * $R' = \\min(255, (R \\cdot 0.393) + (G \\cdot 0.769) + (G \\cdot 0.189)),$\n",
    "\n",
    " gdzie $R,B,G$ to wartości składowych danego piksela w modelu RGB."
   ]
  },
  {
   "cell_type": "code",
   "execution_count": null,
   "metadata": {
    "collapsed": false
   },
   "outputs": [],
   "source": [
    "# założyć nowe repo prywatne"
   ]
  },
  {
   "cell_type": "markdown",
   "metadata": {},
   "source": [
    "## Zadanie 6 (3 punkty)\n",
    "Proszę wyświetlić obraz LENA_512 obrócony o kąt $30$, $45$, $90$ stopni zgodnie ze wzorem:\n",
    "$$\n",
    "x' = x \\cos(\\theta) -y \\sin(\\theta)\n",
    "$$\n",
    "$$\n",
    "y'= x sin(\\theta) + y cos(\\theta)\n",
    "$$"
   ]
  },
  {
   "cell_type": "code",
   "execution_count": null,
   "metadata": {
    "collapsed": false
   },
   "outputs": [],
   "source": [
    "# 1. wczytanie obrazka\n",
    "# 2. macierz obrotów (cv2.getRotationMatrix)\n",
    "# 3. aplikacja macierzy obrotów do obrazka (cv2.warpaffine)\n",
    "img = cv2.imread('./img/LENA_512.jpg', cv2.IMREAD_UNCHANGED)\n",
    "height, width = img.shape[:2] \n",
    "center = (width/2, height/2)\n",
    "rotate_matrix = cv2.getRotationMatrix2D(center=center, angle=30, scale=1)\n",
    "rotated_image = cv2.warpAffine(src=img, M=rotate_matrix, dsize=(width, height))\n",
    "cv2.imshow('rotated', rotated_image)   \n",
    "cv2.waitKey(5000)\n",
    "cv2.destroyAllWindows()\n"
   ]
  },
  {
   "cell_type": "markdown",
   "metadata": {},
   "source": [
    "## Zadanie 7 (2 punkty)\n",
    "Proszę wyświetlić przesunięty obraz LENA_512."
   ]
  },
  {
   "cell_type": "code",
   "execution_count": null,
   "metadata": {
    "collapsed": false
   },
   "outputs": [],
   "source": [
    "img = cv2.imread('./img/LENA_512.jpg', cv2.IMREAD_UNCHANGED)\n",
    "height, width = img.shape[:2]\n",
    "shift = 200 \n",
    "M = np.float32([[1, 0, shift], [0, 1, 0]])\n",
    "shifted_img = cv2.warpAffine(src=img, M=M, dsize=(width, height))\n",
    "cv2.imshow('shifted', shifted_img)   \n",
    "cv2.waitKey(5000)\n",
    "cv2.destroyAllWindows()"
   ]
  },
  {
   "cell_type": "code",
   "execution_count": null,
   "metadata": {},
   "outputs": [],
   "source": [
    "import os\n",
    "\n",
    "import cv2\n",
    "import numpy as np\n",
    "\n",
    "img = cv2.imread('./img/LENA_512.jpg', cv2.IMREAD_UNCHANGED)\n",
    "img2 = img[0:512, 0:300]\n",
    "img3 = img[0:512, 301:512]\n",
    "cv2.namedWindow('image', cv2.WINDOW_NORMAL)\n",
    "vis = np.concatenate((img3, img2), axis=1)\n",
    "cv2.imshow('image', vis)\n",
    "\n",
    "cv2.waitKey(0)\n",
    "cv2.destroyAllWindows()"
   ]
  }
 ],
 "metadata": {
  "kernelspec": {
   "display_name": "Python 3",
   "language": "python",
   "name": "python3"
  },
  "language_info": {
   "codemirror_mode": {
    "name": "ipython",
    "version": 3
   },
   "file_extension": ".py",
   "mimetype": "text/x-python",
   "name": "python",
   "nbconvert_exporter": "python",
   "pygments_lexer": "ipython3",
   "version": "3.11.0"
  }
 },
 "nbformat": 4,
 "nbformat_minor": 0
}
