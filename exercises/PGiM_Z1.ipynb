{
 "cells": [
  {
   "cell_type": "markdown",
   "metadata": {},
   "source": [
    "# Przetwarzanie Grafiki i Muzyki - laboratorium nr 1"
   ]
  },
  {
   "cell_type": "code",
   "execution_count": 2,
   "metadata": {},
   "outputs": [
    {
     "name": "stdout",
     "output_type": "stream",
     "text": [
      "Requirement already satisfied: opencv-python in c:\\python311\\lib\\site-packages (4.9.0.80)\n",
      "Requirement already satisfied: numpy>=1.21.2 in c:\\users\\hp\\appdata\\roaming\\python\\python311\\site-packages (from opencv-python) (1.23.5)\n",
      "Note: you may need to restart the kernel to use updated packages.\n"
     ]
    },
    {
     "name": "stderr",
     "output_type": "stream",
     "text": [
      "\n",
      "[notice] A new release of pip is available: 23.1.2 -> 24.0\n",
      "[notice] To update, run: python.exe -m pip install --upgrade pip\n"
     ]
    }
   ],
   "source": [
    "pip install opencv-python"
   ]
  },
  {
   "cell_type": "code",
   "execution_count": 1,
   "metadata": {},
   "outputs": [],
   "source": [
    "# Ładujemy potrzebne biblioteki\n",
    "import cv2\n",
    "import numpy as np\n",
    "import matplotlib.pyplot as plt"
   ]
  },
  {
   "cell_type": "markdown",
   "metadata": {},
   "source": [
    "# Krótkie wprowadzenie do OpenCV"
   ]
  },
  {
   "cell_type": "markdown",
   "metadata": {},
   "source": [
    "## Wczytywanie obrazków"
   ]
  },
  {
   "cell_type": "markdown",
   "metadata": {},
   "source": [
    "Służy do tego metoda \n",
    "```python\n",
    "imread(file_name: str, flag: int) -> np.ndarray\n",
    "```\n",
    "\n",
    "Argumenty:\n",
    "1. file_name - nazwa wczytywanego pliku w formacie png lub jpg,\n",
    "\n",
    "2. flag - prosta modyfikacja kanałów wczytywanych obrazków: \n",
    "\n",
    "    - cv2.IMREAD_COLOR - wczytanie obrazka w kolorze,\n",
    "\n",
    "    - cv2.IMREAD_GRAYSCALE - wczytanie obrazka w skali szarości\n",
    "    \n",
    "    - cv2.IMREAD_UNCHANGED - wczytanie obrazka w oryginalnym formacie (jeśli obrazek zapisany jest w kolorze, to wczytamy kolorowy obrazek, a jeśli jest zapisany w skali szarości, to wczytamy obrazek w skali szarości)"
   ]
  },
  {
   "cell_type": "markdown",
   "metadata": {},
   "source": [
    "# Wyświetlanie obrazków"
   ]
  },
  {
   "cell_type": "markdown",
   "metadata": {},
   "source": [
    "Służy do tego metoda\n",
    "```python\n",
    "imshow(title: str, img: np.ndarray) -> None\n",
    "```\n",
    "\n",
    "Argumenty:\n",
    "\n",
    "1. title - nazwa wyświetlonego obrazka\n",
    "\n",
    "2. img - obrazek"
   ]
  },
  {
   "cell_type": "code",
   "execution_count": 3,
   "metadata": {},
   "outputs": [],
   "source": [
    "# Przykład\n",
    "img_boat= cv2.imread(\"./img/statek_640_505.jpg\", cv2.IMREAD_UNCHANGED)\n",
    "\n",
    "cv2.imshow(\"\", img_boat)\n",
    "\n",
    "cv2.waitKey(5000)\n",
    "cv2.destroyAllWindows()"
   ]
  },
  {
   "cell_type": "markdown",
   "metadata": {},
   "source": [
    "Do czego służą metody _waitKey_ oraz _destroyAllWindows_?\n",
    "\n",
    "- _waitKey(n: int)_ - obrazek będzie wyświetlany przez $n$ milisekund lub do czasu wczytania znaku z klawiatury,\n",
    "\n",
    "- _destroyAllWindows(file_name: str)_ - zamknięcie wyświetlanego obrazka w oknie zatytułowanym file_name, parametr ten jest opcjonalny i jeśli nie dostarczymy żadnego parametru, to wszystkie aktualnie wyświetlane okna zostaną zamknięte"
   ]
  },
  {
   "cell_type": "markdown",
   "metadata": {
    "collapsed": false
   },
   "source": [
    "## Zadanie 1. (2 punkty)\n",
    "Proszę zainstalować i skonfigurować OpenCV."
   ]
  },
  {
   "cell_type": "markdown",
   "metadata": {},
   "source": [
    "## Zadanie 2. (8 punktów)\n",
    "Proszę wyświetlić zdjęcie Leny:\n",
    "\n",
    "![alt](https://raw.githubusercontent.com/przem85/PGiM/master/img/LENA_512.jpg)\n",
    "\n",
    "oraz Statek\n",
    "\n",
    "![alt](https://raw.githubusercontent.com/przem85/PGiM/master/img/statek_640_505.jpg)"
   ]
  },
  {
   "cell_type": "code",
   "execution_count": 1,
   "metadata": {},
   "outputs": [
    {
     "ename": "KeyboardInterrupt",
     "evalue": "",
     "output_type": "error",
     "traceback": [
      "\u001b[1;31m---------------------------------------------------------------------------\u001b[0m",
      "\u001b[1;31mKeyboardInterrupt\u001b[0m                         Traceback (most recent call last)",
      "Cell \u001b[1;32mIn[1], line 13\u001b[0m\n\u001b[0;32m     10\u001b[0m img2 \u001b[38;5;241m=\u001b[39m cv2\u001b[38;5;241m.\u001b[39mimread(\u001b[38;5;124m'\u001b[39m\u001b[38;5;124m./img/statek_640_505.jpg\u001b[39m\u001b[38;5;124m'\u001b[39m, cv2\u001b[38;5;241m.\u001b[39mIMREAD_UNCHANGED)\n\u001b[0;32m     11\u001b[0m cv2\u001b[38;5;241m.\u001b[39mimshow(\u001b[38;5;124m'\u001b[39m\u001b[38;5;124mstatek\u001b[39m\u001b[38;5;124m'\u001b[39m, img2)\n\u001b[1;32m---> 13\u001b[0m \u001b[43mcv2\u001b[49m\u001b[38;5;241;43m.\u001b[39;49m\u001b[43mwaitKey\u001b[49m\u001b[43m(\u001b[49m\u001b[38;5;241;43m10000\u001b[39;49m\u001b[43m)\u001b[49m\n\u001b[0;32m     14\u001b[0m cv2\u001b[38;5;241m.\u001b[39mdestroyAllWindows()\n",
      "\u001b[1;31mKeyboardInterrupt\u001b[0m: "
     ]
    }
   ],
   "source": [
    "import os\n",
    "\n",
    "import cv2\n",
    "import numpy as np\n",
    "import matplotlib.pyplot as plt\n",
    "\n",
    "img1 = cv2.imread('./img/LENA_512.jpg', cv2.IMREAD_UNCHANGED)\n",
    "cv2.imshow('lena', img1)\n",
    "\n",
    "img2 = cv2.imread('./img/statek_640_505.jpg', cv2.IMREAD_UNCHANGED)\n",
    "cv2.imshow('statek', img2)\n",
    "\n",
    "cv2.waitKey(10000)\n",
    "cv2.destroyAllWindows()"
   ]
  }
 ],
 "metadata": {
  "kernelspec": {
   "display_name": "Python 3",
   "language": "python",
   "name": "python3"
  },
  "language_info": {
   "codemirror_mode": {
    "name": "ipython",
    "version": 3
   },
   "file_extension": ".py",
   "mimetype": "text/x-python",
   "name": "python",
   "nbconvert_exporter": "python",
   "pygments_lexer": "ipython3",
   "version": "3.11.0"
  }
 },
 "nbformat": 4,
 "nbformat_minor": 2
}
