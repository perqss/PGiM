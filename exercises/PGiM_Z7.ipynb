{
 "cells": [
  {
   "cell_type": "markdown",
   "metadata": {},
   "source": [
    "# Przetwarzanie Grafiki i Muzyki - laboratorium nr 7"
   ]
  },
  {
   "cell_type": "code",
   "execution_count": 1,
   "metadata": {},
   "outputs": [],
   "source": [
    "import cv2\n",
    "import numpy as np\n",
    "import matplotlib.pyplot as plt\n",
    "%matplotlib inline"
   ]
  },
  {
   "cell_type": "markdown",
   "metadata": {},
   "source": [
    "## Binaryzacja.\n",
    "\n",
    "Binaryzacja polega na zamianie obrazów monochromatycznych na obrazy binarne. Przekształcenie to jest prawie zawsze wykorzystywane w analizie obrazów, gdyż wiele operacji może być przeprowadzonych wyłącznie na obiektach binarnych."
   ]
  },
  {
   "cell_type": "markdown",
   "metadata": {},
   "source": [
    "## Zadanie 1 (1 punkt)\n",
    "\n",
    "Proszę zaimplementować binaryzację z zadanym poziomem ( a ).\n",
    "\n",
    "$$\n",
    "J(i,j) = \\left\\{ \\begin{array}{ll}\n",
    "0 & \\textrm{gdy } J(i,j)<a \\\\\n",
    "255 & \\textrm{gdy } J(i,j) \\geq a \n",
    "\\end{array} \\right.\n",
    "$$\n",
    "\n",
    "  * Proszę zastosować do zdjęcia \"LENA_512.jpg\". \n",
    "  * Proszę wykonać na Luminancji (składowa Y z formatu YCbCr). "
   ]
  },
  {
   "cell_type": "code",
   "execution_count": 2,
   "metadata": {
    "collapsed": true
   },
   "outputs": [],
   "source": [
    "def binarization(img):\n",
    "    a = 127\n",
    "    new_img = ((img >= a).astype(np.uint8) * 255)\n",
    "    cv2.imshow('before', img)\n",
    "    cv2.imshow('after', new_img)\n",
    "    cv2.waitKey(0)\n",
    "    cv2.destroyAllWindows()\n",
    "\n",
    "img = cv2.imread('./img/LENA_512.jpg')\n",
    "ycbcr_img = cv2.cvtColor(img, cv2.COLOR_BGR2YCR_CB)\n",
    "y_channel = ycbcr_img[:, :, 0]\n",
    "binarization(y_channel)"
   ]
  },
  {
   "cell_type": "markdown",
   "metadata": {},
   "source": [
    "## Zadanie 2 (1 punkt) \n",
    "\n",
    "Proszę zaimplementować binaryzację z zadanym przedziałem ($[a,b]$):\n",
    "\n",
    "$$\n",
    "J(i,j) = \\left\\{ \\begin{array}{ll}\n",
    "255 & \\textrm{gdy } J(i,j) \\in \\left[a,b\\right] \\\\\n",
    "0 & \\textrm{w przeciwnym przypadku} \n",
    "\\end{array} \\right.\n",
    "$$\n",
    "\n",
    "Zastosuj tę binaryzację do obrazu \"LENA_512.jpg\"."
   ]
  },
  {
   "cell_type": "code",
   "execution_count": 3,
   "metadata": {
    "collapsed": true
   },
   "outputs": [],
   "source": [
    "def binarization(img):\n",
    "    a = 100\n",
    "    b = 127\n",
    "    mask = ((img >= a) & (img <= b)).astype(np.uint8)\n",
    "    new_img = mask * 255\n",
    "    cv2.imshow('before', img)\n",
    "    cv2.imshow('after', new_img)\n",
    "    cv2.waitKey(0)\n",
    "    cv2.destroyAllWindows()\n",
    "\n",
    "img = cv2.imread('./img/LENA_512.jpg')\n",
    "ycbcr_img = cv2.cvtColor(img, cv2.COLOR_BGR2YCR_CB)\n",
    "y_channel = ycbcr_img[:, :, 0]\n",
    "binarization(y_channel)"
   ]
  },
  {
   "cell_type": "markdown",
   "metadata": {},
   "source": [
    "# Zadanie 3 (2 punkty)\n",
    "\n",
    "Prosze użyć algorytm binaryzacji Otsu do zdjęcia \"gazeta.jpg\". \n",
    "\n",
    "![alt](https://raw.githubusercontent.com/przem85/PGiM/master/img/gazeta.jpg)\n",
    "\n",
    "Proszę wykonać na Luminancji (składowa Y z formatu YCbCr)."
   ]
  },
  {
   "cell_type": "code",
   "execution_count": 16,
   "metadata": {
    "collapsed": true
   },
   "outputs": [
    {
     "name": "stdout",
     "output_type": "stream",
     "text": [
      "105.0\n"
     ]
    }
   ],
   "source": [
    "# cv2.THRESHOLD(img, ..., FLAG)\n",
    "# FLAG = cv2.THRESH_BINARY + cv2.THRESH_OTSU\n",
    "\n",
    "img = cv2.imread('./img/gazeta.jpg')\n",
    "ycbcr_img = cv2.cvtColor(img, cv2.COLOR_BGR2YCR_CB)\n",
    "y_channel = ycbcr_img[:, :, 0]\n",
    "a = 100\n",
    "ret, thresh1 = cv2.threshold(y_channel, a, 255, cv2.THRESH_BINARY + cv2.THRESH_OTSU)\n",
    "cv2.imshow('Otsu Threshold', thresh1)\n",
    "cv2.waitKey(0)\n",
    "cv2.destroyAllWindows()"
   ]
  },
  {
   "cell_type": "markdown",
   "metadata": {},
   "source": [
    "# Zadanie 4 (3 punkty)\n",
    "\n",
    "Proszę zaimplementować algorytm binaryzacji Bernsena. Metoda Bernsena to algorytm wyznaczania progu lokalnego w oparciu o otoczenie piksela (zwykle kwadratowe okno o nieparzystej szerokości). \n",
    "Próg ustawiany jest na wartość średnią najjaśniejszego i najciemniejszego piksela.\n",
    "\n",
    "  * Proszę użyć algorytm binaryzacji Bernsena do zdjęcia \"gazeta.jpg\".\n",
    "  * Proszę wykonać na Luminancji (składowa Y z formatu YCbCr).\n",
    "\n",
    "Algorytm Brensena:\n",
    "1. Przekształcamy oryginalny obrazek do skali szarości. Możemy teraz myśleć o obrazku, jak o pewnej funkcji $I\\left(x,y\\right): \\mathbf{N}^2 \\rightarrow \\mathbf{N}$ (zakładając, że poruszamy się po świecie liczb naturalnych).\n",
    "2. Wokół każdego piksela bierzemy kwadrat o nieparzystej długości $a>0$ i wyliczamy wartość minimalną oraz maksymalną z intensywności pikseli w każdym takim kwadracie. Formalnie, dla każdego punktu $\\left(x,y\\right)\\in\\mathbf{N}^2$ i ustalonego $a>0$ wyliczamy:\n",
    "\n",
    "\\begin{align}\n",
    "  v_{min}\\left(x,y;a\\right) &= \\min{ \\left( I\\left(i,j\\right): x-a \\leq i \\leq x+a, \\quad y-a \\leq j \\leq y+a \\right) } \\\\\n",
    "  v_{max}\\left(x,y;a\\right) &= \\max{ \\left( I\\left(i,j\\right): x-a \\leq i \\leq x+a, \\quad y-a \\leq j \\leq y+a \\right) }\n",
    "\\end{align}\n",
    "3. Dla każdego kwadratu wyliczamy próg $T$ jako $T = \\frac{v_{min}\\left(x,y;a\\right) + v_{max}\\left(x,y;a\\right)}{2}$."
   ]
  },
  {
   "cell_type": "code",
   "execution_count": 21,
   "metadata": {
    "collapsed": true
   },
   "outputs": [
    {
     "name": "stdout",
     "output_type": "stream",
     "text": [
      "[[166  74 167 ... 222 220 223]\n",
      " [161  82 179 ... 246 253 241]\n",
      " [160  74 173 ... 241 244 246]\n",
      " ...\n",
      " [160  21  42 ... 148 148 147]\n",
      " [161  20  41 ... 148 148 147]\n",
      " [159  19  39 ... 146 146 146]]\n"
     ]
    },
    {
     "name": "stderr",
     "output_type": "stream",
     "text": [
      "C:\\Users\\HP\\AppData\\Local\\Temp\\ipykernel_5720\\1068198571.py:22: RuntimeWarning: overflow encountered in ubyte_scalars\n",
      "  threshold = (min_val + max_val) // 2\n"
     ]
    }
   ],
   "source": [
    "# 1. Konwersja na Grayscale\n",
    "# 2. Dla każdej intensywności piksela bierzemy kwadrat liczb i wyliczamy wartość minimalną i maksymalną \n",
    "# 3. T = (maks + min) / 2\n",
    "\n",
    "import cv2\n",
    "import numpy as np\n",
    "\n",
    "def bernsen_thresholding(image, window_size):\n",
    "    rows, cols = image.shape\n",
    "    binary_image = np.zeros_like(image, dtype=np.uint8)\n",
    "\n",
    "    for i in range(rows):\n",
    "        for j in range(cols):\n",
    "            row_start = max(0, i - window_size // 2)\n",
    "            row_end = min(rows, i + window_size // 2 + 1)\n",
    "            col_start = max(0, j - window_size // 2)\n",
    "            col_end = min(cols, j + window_size // 2 + 1)\n",
    "\n",
    "            min_val = np.min(image[row_start:row_end, col_start:col_end])\n",
    "            max_val = np.max(image[row_start:row_end, col_start:col_end])\n",
    "            threshold = (min_val + max_val) // 2\n",
    "\n",
    "            if image[i, j] > threshold:\n",
    "                binary_image[i, j] = 255\n",
    "            else:\n",
    "                binary_image[i, j] = 0\n",
    "\n",
    "    return binary_image\n",
    "\n",
    "\n",
    "image = cv2.imread(\"./img/gazeta.jpg\")\n",
    "image_YCrCb = cv2.cvtColor(image, cv2.COLOR_BGR2YCrCb)\n",
    "y_channel = image_YCrCb[:,:,0]\n",
    "window_size = 15\n",
    "binary_image = bernsen_thresholding(y_channel, window_size)\n",
    "\n",
    "cv2.imshow(\"Original Image\", image)\n",
    "cv2.imshow(\"Bernsen Thresholding\", binary_image)\n",
    "cv2.waitKey(0)\n",
    "cv2.destroyAllWindows()\n"
   ]
  },
  {
   "cell_type": "markdown",
   "metadata": {},
   "source": [
    "# Zadanie 5 (3 punkty)\n",
    "Progowanie mieszane przebiega podobnie, jak progowanie lokalne (metoda Bernsena), z tym, że jeśli średnia lub mediana lokalna dla danego piksela odbiega o więcej niż ustalony próg (program pobiera tą wartość jako parametr) od wartości globalnej (wyznaczona za pomocą Otsu), piksel progowany jest wartością globalną.\n",
    "\n",
    "  * Prosze użyć algorytm progowania mieszanego do zdjęcia \"gazeta.jpg\".\n",
    "  * Proszę wykonać na Luminancji (składowa Y z formatu YCbCr).\n",
    "\n",
    "  Algorytm progowania mieszanego:\n",
    "  1. Wyznaczamy wartość progu globalnego przy pomocy binaryzacji Otsu. Oznaczmy ten próg jako $P$.\n",
    "  2. Podobnie, jak w algorytmie Brensena, przekształcamy oryginalny obrazek do skali szarości.\n",
    "  3.  Wokół każdego piksela bierzemy kwadrat o nieparzystej długości $a>0$ i wyliczamy wartość minimalną oraz maksymalną z intensywności pikseli w każdym takim kwadracie. Formalnie, dla każdego punktu $\\left(x,y\\right)\\in\\mathbf{N}^2$ i ustalonego $a>0$ wyliczamy:\n",
    "\n",
    "\\begin{align}\n",
    "  v_{min}\\left(x,y;a\\right) &= \\min{ \\left( I\\left(i,j\\right): x-a \\leq i \\leq x+a, \\quad y-a \\leq j \\leq y+a \\right) } \\\\\n",
    "  v_{max}\\left(x,y;a\\right) &= \\max{ \\left( I\\left(i,j\\right): x-a \\leq i \\leq x+a, \\quad y-a \\leq j \\leq y+a \\right) }\n",
    "\\end{align}\n",
    "\n",
    "4. Dla każdego kwadratu wyliczamy próg $T$ jako $T = \\frac{v_{min}\\left(x,y;a\\right) + v_{max}\\left(x,y;a\\right)}{2}$. Jeżeli jednak wartość tak wyliczonego progu $T$ różni się o więcej niż $\\alpha > 0$ (parametr ten powinien być wczytywany jako argument funkcji) od progu globalnego $P$, to wtedy piksel progowany jest wartością globalną. Formalnie, jeśli $\\left| T - \\alpha \\right| > P$, to wtedy jako próg lokalny przyjmujemy próg globalny $P$."
   ]
  },
  {
   "cell_type": "code",
   "execution_count": 20,
   "metadata": {},
   "outputs": [
    {
     "name": "stderr",
     "output_type": "stream",
     "text": [
      "C:\\Users\\HP\\AppData\\Local\\Temp\\ipykernel_5720\\3579282717.py:17: RuntimeWarning: overflow encountered in ubyte_scalars\n",
      "  local_threshold = (local_min + local_max) // 2\n"
     ]
    }
   ],
   "source": [
    "import cv2\n",
    "import numpy as np\n",
    "\n",
    "def mixed_thresholding(image, window_size, global_threshold, alpha):\n",
    "    rows, cols = image.shape\n",
    "    binary_image = np.zeros_like(image, dtype=np.uint8)\n",
    "\n",
    "    for i in range(rows):\n",
    "        for j in range(cols):\n",
    "            row_start = max(0, i - window_size // 2)\n",
    "            row_end = min(rows, i + window_size // 2 + 1)\n",
    "            col_start = max(0, j - window_size // 2)\n",
    "            col_end = min(cols, j + window_size // 2 + 1)\n",
    "\n",
    "            local_min = np.min(image[row_start:row_end, col_start:col_end])\n",
    "            local_max = np.max(image[row_start:row_end, col_start:col_end])\n",
    "            local_threshold = (local_min + local_max) // 2\n",
    "\n",
    "            if abs(local_threshold - alpha) > global_threshold:\n",
    "                local_threshold = global_threshold\n",
    "                \n",
    "            if image[i, j] > local_threshold:\n",
    "                binary_image[i, j] = 255\n",
    "            else:\n",
    "                binary_image[i, j] = 0\n",
    "\n",
    "    return binary_image\n",
    "\n",
    "\n",
    "image = cv2.imread(\"./img/gazeta.jpg\")\n",
    "image_YCrCb = cv2.cvtColor(image, cv2.COLOR_BGR2YCrCb)\n",
    "y_channel = image_YCrCb[:,:,0]\n",
    "global_threshold, _ = cv2.threshold(y_channel, 0, 255, cv2.THRESH_BINARY + cv2.THRESH_OTSU)\n",
    "window_size = 15  \n",
    "alpha = 20\n",
    "binary_image = mixed_thresholding(y_channel, window_size, global_threshold, alpha)\n",
    "\n",
    "cv2.imshow(\"Original Image\", image)\n",
    "cv2.imshow(\"Mixed Thresholding\", binary_image)\n",
    "cv2.waitKey(0)\n",
    "cv2.destroyAllWindows()\n"
   ]
  }
 ],
 "metadata": {
  "kernelspec": {
   "display_name": "Python 3",
   "language": "python",
   "name": "python3"
  },
  "language_info": {
   "codemirror_mode": {
    "name": "ipython",
    "version": 3
   },
   "file_extension": ".py",
   "mimetype": "text/x-python",
   "name": "python",
   "nbconvert_exporter": "python",
   "pygments_lexer": "ipython3",
   "version": "3.11.0"
  }
 },
 "nbformat": 4,
 "nbformat_minor": 2
}
